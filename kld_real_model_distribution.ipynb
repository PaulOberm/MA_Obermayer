{
 "cells": [
  {
   "cell_type": "markdown",
   "metadata": {},
   "source": [
    "# Kullback-Leibler-Distance implementation and comparison\n",
    "-  Visualization of mode dropping on a synthetical data example\n",
    "-  \"Simulation\" of a GAN dataset (real and synthetical (generator) dataset)"
   ]
  },
  {
   "cell_type": "code",
   "execution_count": 1,
   "metadata": {
    "collapsed": true
   },
   "outputs": [],
   "source": [
    "import numpy as np\n",
    "import matplotlib.pyplot as plt\n",
    "from matplotlib import rc\n",
    "from matplotlib.legend_handler import HandlerLine2D\n",
    "rc('font',**{'family':'sans-serif','sans-serif':['Helvetica']})\n",
    "rc('text', usetex=True)"
   ]
  },
  {
   "cell_type": "markdown",
   "metadata": {},
   "source": [
    "## Set up a synthetical real dataset to accomplish a sensitivity test"
   ]
  },
  {
   "cell_type": "code",
   "execution_count": 2,
   "metadata": {},
   "outputs": [
    {
     "data": {
      "text/plain": [
       "(10000,)"
      ]
     },
     "execution_count": 2,
     "metadata": {},
     "output_type": "execute_result"
    }
   ],
   "source": [
    "# Defintion: Real data distribution with 3 peaks with different means and standard deviations\n",
    "n_samples_real = 10000\n",
    "peak1 = np.random.normal(5, 0.4, n_samples_real)\n",
    "\n",
    "peak2 = 1*np.random.normal(2,0.2, n_samples_real)\n",
    "\n",
    "peak3 = 1*np.random.normal(7,0.4, n_samples_real)\n",
    "peak3.shape"
   ]
  },
  {
   "cell_type": "code",
   "execution_count": 3,
   "metadata": {},
   "outputs": [
    {
     "data": {
      "text/plain": [
       "(30000,)"
      ]
     },
     "execution_count": 3,
     "metadata": {},
     "output_type": "execute_result"
    }
   ],
   "source": [
    "# Concatenate samples into real dataset --> CDF\n",
    "real_data = np.concatenate([peak1, peak2, peak3])\n",
    "real_data.shape"
   ]
  },
  {
   "cell_type": "markdown",
   "metadata": {},
   "source": [
    "## Set up two synthetical generator datasets to accomplish a sensitivity test"
   ]
  },
  {
   "cell_type": "code",
   "execution_count": 4,
   "metadata": {},
   "outputs": [
    {
     "data": {
      "text/plain": [
       "(30000,)"
      ]
     },
     "execution_count": 4,
     "metadata": {},
     "output_type": "execute_result"
    }
   ],
   "source": [
    "# First generator distribution - 1 peak\n",
    "distribution1_peak1 = np.random.normal(2, 0.4, 30000)\n",
    "distribution1 = distribution1_peak1\n",
    "\n",
    "# Second generator distribution - 3 peaks\n",
    "distribution2_peak1 = np.random.normal(5, 0.6, 10000)\n",
    "distribution2_peak2 = np.random.normal(2, 0.8, 10000)\n",
    "distribution2_peak3 = np.random.normal(7, 0.8, 10000)\n",
    "distribution2 = np.concatenate([distribution2_peak1, distribution2_peak2, distribution2_peak3])\n",
    "distribution2.shape"
   ]
  },
  {
   "cell_type": "markdown",
   "metadata": {},
   "source": [
    "# Bin data to get histogram - Input format for KLD calculation\n",
    "-  Bins have to be equal for real and model data to calculate KLD afterwards!"
   ]
  },
  {
   "cell_type": "code",
   "execution_count": 5,
   "metadata": {
    "collapsed": true
   },
   "outputs": [],
   "source": [
    "# Minimum probability, KLD calculation fails otherwise due to division by 0\n",
    "min_prob = 10**-9\n",
    "\n",
    "# Hyperparameter: Number of bins\n",
    "num_bins = 300\n",
    "\n",
    "# Set up histogram dynamically, data dependent\n",
    "min_value = np.min([real_data, distribution1, distribution2])\n",
    "max_value = np.max([real_data, distribution1, distribution2])\n",
    "bin_width = (max_value - min_value)/num_bins"
   ]
  },
  {
   "cell_type": "code",
   "execution_count": 6,
   "metadata": {
    "collapsed": true
   },
   "outputs": [],
   "source": [
    "# Histogram edges equals number of bins+1\n",
    "bin_edges = []\n",
    "for idx in range(num_bins): \n",
    "    bin_edges = np.append(bin_edges, min_value + idx*bin_width)\n",
    "bin_edges = np.append(bin_edges, max_value)"
   ]
  },
  {
   "cell_type": "code",
   "execution_count": 7,
   "metadata": {
    "collapsed": true
   },
   "outputs": [],
   "source": [
    "# Create histogram with real dataset and predefined bin edges (equal for real and simulation data)\n",
    "counts_real, bin_edges_real = np.histogram(real_data, bins=bin_edges, density=True)\n",
    "# Calculate integration (1 in total equal PDF) with bin area and height (counts_real)\n",
    "counts_real = counts_real*np.diff(bin_edges)"
   ]
  },
  {
   "cell_type": "code",
   "execution_count": 8,
   "metadata": {
    "collapsed": true
   },
   "outputs": [],
   "source": [
    "# Set minimal probability if no samples in bin\n",
    "for count_idx, count in enumerate(counts_real): \n",
    "    if count==0: \n",
    "        counts_real[count_idx] = min_prob"
   ]
  },
  {
   "cell_type": "code",
   "execution_count": 9,
   "metadata": {
    "collapsed": true
   },
   "outputs": [],
   "source": [
    "# Create histogram with synthetical dataset 1 and predefined bin edges (equal for real and simulation data)\n",
    "counts_dist1, bin_edges_dist1 = np.histogram(distribution1, bins=bin_edges, density=True)\n",
    "counts_dist1 = counts_dist1*np.diff(bin_edges)\n",
    "for count_idx, count in enumerate(counts_dist1):\n",
    "     if count == 0: \n",
    "            counts_dist1[count_idx] = min_prob\n",
    "    \n",
    "# Create histogram with synthetical dataset 2 and predefined bin edges (equal for real and simulation data)\n",
    "counts_dist2, bin_edges_dist2 = np.histogram(distribution2, bins=bin_edges, density=True)\n",
    "counts_dist2 = counts_dist2*np.diff(bin_edges)\n",
    "for count_idx, count in enumerate(counts_dist2):\n",
    "     if count == 0: \n",
    "            counts_dist2[count_idx] = min_prob"
   ]
  },
  {
   "cell_type": "code",
   "execution_count": 12,
   "metadata": {},
   "outputs": [
    {
     "name": "stdout",
     "output_type": "stream",
     "text": [
      "Check: Integration of PDF should lead to ~1!\n",
      "Real data PDF area: 1.0000001379999999\n",
      "Simulation data 1 PDF area: 1.000000221\n",
      "Simulation data 2 PDF area: 1.000000031\n"
     ]
    }
   ],
   "source": [
    "# Check PDFs by area (around 1!)\n",
    "print('Check: Integration of PDF should lead to ~1!')\n",
    "print('Real data PDF area: {}'.format(np.sum(counts_real)))\n",
    "print('Simulation data 1 PDF area: {}'.format(np.sum(counts_dist1)))\n",
    "print('Simulation data 2 PDF area: {}'.format(np.sum(counts_dist2)))"
   ]
  },
  {
   "cell_type": "markdown",
   "metadata": {},
   "source": [
    "## After PDF generation, CDF calculation by integral"
   ]
  },
  {
   "cell_type": "code",
   "execution_count": 13,
   "metadata": {},
   "outputs": [
    {
     "name": "stdout",
     "output_type": "stream",
     "text": [
      "CDF output shape and type: (300,), <class 'numpy.ndarray'>\n"
     ]
    }
   ],
   "source": [
    "# Generate CDF for synthetical real and simulation datasets\n",
    "cdf_real = np.cumsum(counts_real)\n",
    "cdf_dist1 = np.cumsum(counts_dist1)\n",
    "cdf_dist2 = np.cumsum(counts_dist2)\n",
    "\n",
    "print('CDF output shape and type: {}, {}'.format(cdf_real.shape, type(cdf_real)))"
   ]
  },
  {
   "cell_type": "markdown",
   "metadata": {},
   "source": [
    "## Plot the CDFs"
   ]
  },
  {
   "cell_type": "code",
   "execution_count": 14,
   "metadata": {},
   "outputs": [
    {
     "data": {
      "text/plain": [
       "<matplotlib.legend.Legend at 0x7f402fc15908>"
      ]
     },
     "execution_count": 14,
     "metadata": {},
     "output_type": "execute_result"
    }
   ],
   "source": [
    "# Set up figure with LaTex setting\n",
    "fig = plt.gcf()\n",
    "fig.set_size_inches(13,7)\n",
    "plt.rc('text', usetex=True)\n",
    "plt.rc('font', family='serif')\n",
    "\n",
    "# Define datasets with colors: Real = green; Simulation = red, black\n",
    "plt.plot(bin_edges[0:-1], cdf_real, linestyle='--', linewidth = 5, color='green', label=r'Real distribution')\n",
    "plt.plot(bin_edges[0:-1], cdf_dist1, linestyle='--', linewidth = 5, color='red', label=r'Model distribution 1')\n",
    "plt.plot(bin_edges[0:-1], cdf_dist2, linestyle='--', linewidth = 5, color='black', label=r'Model distribution 2')\n",
    "\n",
    "# Plot properties\n",
    "plt.ylim((0,1))\n",
    "plt.ylabel(r\"CDF\", fontsize=20)\n",
    "plt.xlabel(r'x', fontsize=20)\n",
    "plt.grid(True)\n",
    "plt.title(r\"Distribution of real and model data - CDF\", fontsize=20, color='black')\n",
    "plt.legend(fontsize=20)"
   ]
  },
  {
   "cell_type": "code",
   "execution_count": 19,
   "metadata": {},
   "outputs": [
    {
     "data": {
      "image/png": "[encoded data removed]",
      "text/plain": [
       "<Figure size 936x504 with 1 Axes>"
      ]
     },
     "metadata": {},
     "output_type": "display_data"
    }
   ],
   "source": [
    "# Show figure with three datasets\n",
    "plt.show()"
   ]
  },
  {
   "cell_type": "code",
   "execution_count": 15,
   "metadata": {
    "collapsed": true
   },
   "outputs": [],
   "source": [
    "# Set save flag as False (No saving process by accident)\n",
    "save_flag = False\n",
    "\n",
    "# Save figure in current working folder\n",
    "if save_flag: \n",
    "    fig.savefig('KLD_comparison_CDF.eps', format='eps', dpi=1000)"
   ]
  },
  {
   "cell_type": "markdown",
   "metadata": {},
   "source": [
    "## Sample from generated CDFs "
   ]
  },
  {
   "cell_type": "code",
   "execution_count": 16,
   "metadata": {
    "collapsed": true
   },
   "outputs": [],
   "source": [
    "def sample_from_cdf(num_samples, cdf, bin_edges): \n",
    "    '''\n",
    "        Explanation:         From a given Cummulative Density Function CDF \n",
    "        ------------         samples need to be drawn for Kullback-Leibler-Distance KLD calculation. \n",
    "                             The mathematical basis for this calculation is the simulation theorem. \n",
    "                             Sampling from a uniform distribution as input for a CDF to extract samples\n",
    "                             from the CDF underlying distribution.\n",
    "\n",
    "        Parameters: \n",
    "        -----------\n",
    "            cdf              Cumulative Density Function (1D numpy array)\n",
    "            num_samples      Number of samples to get from given CDF (integer)\n",
    "    '''\n",
    "    print('Sample from CDF!')\n",
    "    \n",
    "    # Sample from uniform distribution\n",
    "    random_numbers = np.random.uniform(0, 1, num_samples)\n",
    "    \n",
    "    samples = []\n",
    "    \n",
    "    # Iterate all random numbers from uniform distribution, since this is a discrete implementation for \n",
    "    # sampling due to obvious reasons, the closest random sample value is used in the CDF distribution\n",
    "    # through its index via the bin_edges containing \n",
    "    for _, random_number in enumerate(random_numbers): \n",
    "        idx = (np.abs(cdf - random_number)).argmin()\n",
    "        #samples = np.append(samples, cdf[idx])\n",
    "        samples = np.append(samples, bin_edges[idx])\n",
    "        \n",
    "    #print(random_number)\n",
    "    \n",
    "    return samples"
   ]
  },
  {
   "cell_type": "code",
   "execution_count": 17,
   "metadata": {},
   "outputs": [
    {
     "name": "stdout",
     "output_type": "stream",
     "text": [
      "Sample from CDF!\n",
      "Sample from CDF!\n",
      "Sample from CDF!\n"
     ]
    }
   ],
   "source": [
    "# Applicate Sampling process from CDFs (real, simulation data 1,2)\n",
    "n_samples=1000\n",
    "pdf_real = sample_from_cdf(n_samples, cdf_real, bin_edges)\n",
    "pdf_distr1 = sample_from_cdf(n_samples, cdf_dist1, bin_edges)\n",
    "pdf_distr2 = sample_from_cdf(n_samples, cdf_dist2, bin_edges)"
   ]
  },
  {
   "cell_type": "code",
   "execution_count": 18,
   "metadata": {
    "collapsed": true
   },
   "outputs": [],
   "source": [
    "# Generate PDF through histogram with sampled data from CDF\n",
    "\n",
    "# Real samples histogram\n",
    "pdf_real, bins_real = np.histogram(pdf_real, bins = bin_edges, density=True)\n",
    "for count_idx, count in enumerate(pdf_real):\n",
    "     if count == 0: \n",
    "            pdf_real[count_idx] = min_prob\n",
    "pdf_real = pdf_real*np.diff(bin_edges)\n",
    "            \n",
    "# Model 1 samples histogram\n",
    "pdf_dist1, bins_dist1 = np.histogram(pdf_distr1, bins = bin_edges, density=True)\n",
    "for count_idx, count in enumerate(pdf_dist1):\n",
    "     if count == 0: \n",
    "            pdf_dist1[count_idx] = min_prob\n",
    "pdf_dist1 = pdf_dist1*np.diff(bin_edges)\n",
    "\n",
    "# Model 2 samples histogram\n",
    "pdf_dist2, bins_dist2 = np.histogram(pdf_distr2, bins = bin_edges, density=True)\n",
    "for count_idx, count in enumerate(pdf_dist2):\n",
    "     if count == 0: \n",
    "            pdf_dist2[count_idx] = min_prob\n",
    "pdf_dist2 = pdf_dist2*np.diff(bin_edges)"
   ]
  },
  {
   "cell_type": "code",
   "execution_count": 19,
   "metadata": {},
   "outputs": [
    {
     "name": "stdout",
     "output_type": "stream",
     "text": [
      "Check: Integration of PDF should lead to ~1!\n",
      "Real data PDF area: 1.000000006497848\n",
      "Simulation data 1 PDF area: 1.0000000092052845\n",
      "Simulation data 2 PDF area: 1.000000003364957\n"
     ]
    }
   ],
   "source": [
    "# Check histograms by area (around 1!)\n",
    "print('Check: Integration of PDF should lead to ~1!')\n",
    "print('Real data PDF area: {}'.format(np.sum(pdf_real)))\n",
    "print('Simulation data 1 PDF area: {}'.format(np.sum(pdf_dist1)))\n",
    "print('Simulation data 2 PDF area: {}'.format(np.sum(pdf_dist2)))"
   ]
  },
  {
   "cell_type": "code",
   "execution_count": 20,
   "metadata": {
    "collapsed": true
   },
   "outputs": [],
   "source": [
    "# Kullback-Leibler-Distance: Between generator and real data samples\n",
    "\n",
    "def KLD(pdf_real, pdf_sim): \n",
    "    print('Calculate KLD(pg||pr) = KLD(p_sim||p_real: From generator distribution to real data distribution')\n",
    "    if not len(pdf_real) == len(pdf_sim): \n",
    "        print('Error: pdf arrays have to be of equal size!')\n",
    "    \n",
    "    kld_value = 0\n",
    "    for idx, pdf_value in enumerate(pdf_sim): \n",
    "        kld_value += pdf_sim[idx] * np.log(pdf_sim[idx]/pdf_real[idx]) * bin_width\n",
    "        \n",
    "    return kld_value"
   ]
  },
  {
   "cell_type": "code",
   "execution_count": 21,
   "metadata": {},
   "outputs": [
    {
     "name": "stdout",
     "output_type": "stream",
     "text": [
      "Calculate KLD(pg||pr) = KLD(p_sim||p_real: From generator distribution to real data distribution\n",
      "Calculate KLD(pg||pr) = KLD(p_sim||p_real: From generator distribution to real data distribution\n"
     ]
    }
   ],
   "source": [
    "# Calculate distances between real and model distributions\n",
    "kld_dist1 = KLD(pdf_real, pdf_dist1)\n",
    "kld_dist2 = KLD(pdf_real, pdf_dist2)"
   ]
  },
  {
   "cell_type": "code",
   "execution_count": 22,
   "metadata": {},
   "outputs": [
    {
     "name": "stdout",
     "output_type": "stream",
     "text": [
      "KLD value between model distribution 1 and real data distribution: 0.15098256303487198\n",
      "KLD value between model distribution 2 and real data distribution: 0.16245219314019552\n"
     ]
    }
   ],
   "source": [
    "# Check: Distance to model 1 distribution is expected to be greater than model 2 distribution\n",
    "print('KLD value between model distribution 1 and real data distribution: {}'.format(kld_dist1))\n",
    "print('KLD value between model distribution 2 and real data distribution: {}'.format(kld_dist2))"
   ]
  },
  {
   "cell_type": "code",
   "execution_count": 24,
   "metadata": {},
   "outputs": [
    {
     "data": {
      "image/png": "[encoded data removed]",
      "text/plain": [
       "<Figure size 936x504 with 1 Axes>"
      ]
     },
     "metadata": {},
     "output_type": "display_data"
    }
   ],
   "source": [
    "# Set figure properties\n",
    "fig = plt.gcf() \n",
    "fig.set_size_inches(13,7)\n",
    "plt.rc('text', usetex=True)\n",
    "plt.rc('font', family='serif')\n",
    "\n",
    "# Plot the pdf\n",
    "plt.plot(bin_edges[0:-1], pdf_real,linestyle='-', color='green', label=r'Real distribution', linewidth = 5)\n",
    "plt.plot(bin_edges[0:-1], pdf_dist1,linestyle='-', color='red', label=r'Model distribution 1: KLD = {0:.4f}'.format(kld_dist1), linewidth = 5)\n",
    "plt.plot(bin_edges[0:-1], pdf_dist2,linestyle='-', color='black', label=r'Model distribution 2: KLD = {0:.4f}'.format(kld_dist2), linewidth = 5)\n",
    "\n",
    "# Set figure properties\n",
    "plt.ylabel(\"PDF\", fontsize=20)\n",
    "plt.xlabel('x', fontsize=20)\n",
    "plt.grid(True)\n",
    "#plt.ylim((0,1))\n",
    "\n",
    "# Set title\n",
    "plt.title(r\"Distribution of real and model data - PDF\", fontsize=20, color='black')\n",
    "\n",
    "# Set legend\n",
    "plt.legend(fontsize=20)\n",
    "\n",
    "# Show plot\n",
    "plt.show()"
   ]
  },
  {
   "cell_type": "code",
   "execution_count": 28,
   "metadata": {
    "collapsed": true
   },
   "outputs": [],
   "source": [
    "# Set save flag as False (No saving process by accident)\n",
    "save_flag = False\n",
    "\n",
    "# Save figure in current working folder\n",
    "if save_flag: \n",
    "    fig.savefig('KLD_comparison_PDF.eps', format='eps', dpi=1000)"
   ]
  }
 ],
 "metadata": {
  "kernelspec": {
   "display_name": "Python 3",
   "language": "python",
   "name": "python3"
  },
  "language_info": {
   "codemirror_mode": {
    "name": "ipython",
    "version": 3
   },
   "file_extension": ".py",
   "mimetype": "text/x-python",
   "name": "python",
   "nbconvert_exporter": "python",
   "pygments_lexer": "ipython3",
   "version": "3.6.7"
  }
 },
 "nbformat": 4,
 "nbformat_minor": 2
}
